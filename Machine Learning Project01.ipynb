{
 "cells": [
  {
   "cell_type": "markdown",
   "metadata": {},
   "source": [
    "# MachineLearing Project 01\n",
    "# Binary Classification based on Logistic Regression\n",
    "\n",
    "\n",
    "\n",
    "#### 20166450 YoungminKim"
   ]
  },
  {
   "cell_type": "code",
   "execution_count": 302,
   "metadata": {},
   "outputs": [],
   "source": [
    "import matplotlib.pyplot as plt\n",
    "from random import *\n",
    "import numpy as np"
   ]
  },
  {
   "cell_type": "markdown",
   "metadata": {},
   "source": [
    "## 1. Plot two clusters of points for training dateset\n",
    "\n",
    "- Generate two sets of separable random point clusters in ${R}^2$\n",
    "\n",
    "- Let $\\{ x_i \\}_{i=1}^n​ $ be a set of points and $\\{ y_i \\}_{i=1}^n$ be their corresponding labels\n",
    "Plot the point clusters in the training dataset using different colors depending on their labels"
   ]
  },
  {
   "cell_type": "code",
   "execution_count": 621,
   "metadata": {},
   "outputs": [],
   "source": [
    "s1=8\n",
    "t1=4\n",
    "s2=4\n",
    "t2=8"
   ]
  },
  {
   "cell_type": "code",
   "execution_count": 622,
   "metadata": {},
   "outputs": [],
   "source": [
    "x1_train=np.random.randn(100)\n",
    "y1_train=np.random.randn(100)\n",
    "x2_train=np.random.randn(100)\n",
    "y2_train=np.random.randn(100)"
   ]
  },
  {
   "cell_type": "code",
   "execution_count": 623,
   "metadata": {},
   "outputs": [
    {
     "data": {
      "image/png": "[encoded data removed]",
      "text/plain": [
       "<Figure size 432x288 with 1 Axes>"
      ]
     },
     "metadata": {
      "needs_background": "light"
     },
     "output_type": "display_data"
    }
   ],
   "source": [
    "xy0_train=np.column_stack([s1-x1_train,t1-y1_train])\n",
    "xy1_train=np.column_stack([s2-x2_train,t2-y2_train])\n",
    "one_arr=np.array([1.0]*100)\n",
    "xy0_train_plus1=np.column_stack([s1-x1_train,t1-y1_train,one_arr])\n",
    "xy1_train_plus1=np.column_stack([s2-x2_train,t2-y2_train,one_arr])\n",
    "plt.scatter(s1-x1_train,t1-y1_train)\n",
    "plt.scatter(s2-x2_train,t2-y2_train)\n",
    "plt.show()"
   ]
  },
  {
   "cell_type": "markdown",
   "metadata": {},
   "source": [
    "## 2. Plot two clusters of points for testing dataset\n",
    "\n",
    "- Generate two sets of separable random point clusters in ${R}^2$ for a testing dataset using the same centroid and the standard deviation of random generator as the training dataset\n",
    "\n",
    "- Plot the point clusters in the testing dataset using different colors depending on their labels (different colors from the training dataset)"
   ]
  },
  {
   "cell_type": "code",
   "execution_count": 624,
   "metadata": {},
   "outputs": [],
   "source": [
    "s1_test=8\n",
    "t1_test=6\n",
    "s2_test=6\n",
    "t2_test=8"
   ]
  },
  {
   "cell_type": "code",
   "execution_count": 625,
   "metadata": {},
   "outputs": [],
   "source": [
    "x1_test=np.random.randn(100)\n",
    "y1_test=np.random.randn(100)\n",
    "x2_test=np.random.randn(100)\n",
    "y2_test=np.random.randn(100)"
   ]
  },
  {
   "cell_type": "markdown",
   "metadata": {},
   "source": [
    "- Each of Tesing data sets is nearer than Training data sets. \n",
    "- Set it on purpose"
   ]
  },
  {
   "cell_type": "code",
   "execution_count": 626,
   "metadata": {},
   "outputs": [
    {
     "data": {
      "image/png": "[encoded data removed]",
      "text/plain": [
       "<Figure size 432x288 with 1 Axes>"
      ]
     },
     "metadata": {
      "needs_background": "light"
     },
     "output_type": "display_data"
    }
   ],
   "source": [
    "xy0_test=np.column_stack([s1_test-x1_test,t1_test-y1_test])\n",
    "xy1_test=np.column_stack([s2_test-x2_test,t2_test-y2_test])\n",
    "xy0_test_plus1=np.column_stack([s1_test-x1_test,t1_test-y1_test,one_arr])\n",
    "xy1_test_plus1=np.column_stack([s2_test-x2_test,t2_test-y2_test,one_arr])\n",
    "plt.scatter(s1_test-x1_test,t1_test-y1_test)\n",
    "plt.scatter(s2_test-x2_test,t2_test-y2_test)\n",
    "plt.show()"
   ]
  },
  {
   "cell_type": "markdown",
   "metadata": {},
   "source": [
    "## 3. Plot the learning curves\n",
    "\n",
    "- Apply the gradient descent algorithm\n",
    "- Plot the training loss at every iteration\n",
    "- Plot the testing loss at every iteration\n",
    "- Plot the training accuracy at every iteration\n",
    "- Plot the testing accuracy at every iteration"
   ]
  },
  {
   "cell_type": "code",
   "execution_count": 627,
   "metadata": {},
   "outputs": [],
   "source": [
    "label0=0\n",
    "label1=1\n",
    "\n",
    "def sigmoid(z):\n",
    "    return 1/(1+np.exp(-z))\n",
    "\n",
    "\n",
    "def f_z(x,y):\n",
    "    z=ux+vy+b\n",
    "    return z\n",
    "\n",
    "\n",
    "def h_func(xy,u,v,b):\n",
    "    h=np.zeros(100)\n",
    "    \n",
    "    for i in range(len(xy)):\n",
    "        z=u*xy[i][0]+v*xy[i][1]+b\n",
    "        h[i]=sigmoid(z)\n",
    "    \n",
    "    return h\n",
    "\n",
    "\n",
    "def cross_entropy(h,label):\n",
    "    \n",
    "    if(h==0 ):\n",
    "        ln=10000.0\n",
    "        f= -(label*ln+(1-label)*(np.log(1-h)))\n",
    "        \n",
    "    elif(h==1):\n",
    "        ln=10000.0\n",
    "        f= -(label*np.log(h)+(1-label)*ln)\n",
    "        \n",
    "    else:\n",
    "        f= -(label*np.log(h)+(1-label)*(np.log(1-h)))\n",
    "        \n",
    "    return f\n",
    "\n",
    "\n",
    "def cross_entropy_total(h_label0,h_label1,label0,label1):\n",
    "    total=0\n",
    "    for i in range(len(h_label0)):\n",
    "        total+=cross_entropy(h_label0[i],label0)\n",
    "    for i in range(len(h_label1)):\n",
    "        total+=cross_entropy(h_label1[i],label1)\n",
    "    \n",
    "    return total/200\n",
    "\n",
    "\n",
    "\n",
    "\n",
    "def partial_differential_of_total_cross_entropy(label0,label1,h_label0,h_label1,xy0,xy1):\n",
    "    L=0\n",
    "\n",
    "    for i in range(100):\n",
    "        L+=(-(label0*(1-h_label0[i])*xy0[i]-(1-label0)*(h_label0[i])*xy0[i]))\n",
    "    for i in range(100):\n",
    "        L+=(-(label1*(1-h_label1[i])*xy1[i]-(1-label0)*(h_label1[i])*xy1[i]))\n",
    "    \n",
    "    L=L/200\n",
    "        \n",
    "    return L\n",
    "\n"
   ]
  },
  {
   "cell_type": "markdown",
   "metadata": {},
   "source": [
    "- Function of accuracy comparing to real labels."
   ]
  },
  {
   "cell_type": "code",
   "execution_count": 653,
   "metadata": {},
   "outputs": [],
   "source": [
    "def accuracy_algorithms(h_label0,h_label1):\n",
    "    label_h0=np.zeros(100)\n",
    "    label_h1=np.zeros(100)\n",
    "    right=0\n",
    "    \n",
    "    for i in range(100):\n",
    "        if(h_label0[i]>=0.5):\n",
    "            label_h0[i]=1\n",
    "        else:\n",
    "            label_h0[i]=0\n",
    "            \n",
    "        if(h_label1[i]>=0.5):\n",
    "            label_h1[i]=1\n",
    "        else:\n",
    "            label_h1[i]=0\n",
    "    \n",
    "    for i in range(100):\n",
    "        if(label_h0[i]==0):\n",
    "            right+=1\n",
    "        if(label_h1[i]==1):\n",
    "            right+=1\n",
    "            \n",
    "    accuracy=right/180\n",
    "    \n",
    "    return accuracy"
   ]
  },
  {
   "cell_type": "markdown",
   "metadata": {},
   "source": [
    "- Gradient Descent Algorithms! "
   ]
  },
  {
   "cell_type": "code",
   "execution_count": 654,
   "metadata": {},
   "outputs": [],
   "source": [
    "def gradient_descent_algorithms(label0,label1,h_label0,h_label1,xy0,xy1):\n",
    "    learning_rate = 0.03\n",
    "    u=0\n",
    "    v=0\n",
    "    b=0\n",
    "    i=0\n",
    "    total_new=0\n",
    "    total=cross_entropy_total(h_label0,h_label1,label0,label1)\n",
    "    iteration=0\n",
    "    total_loss=np.zeros(100000)\n",
    "    accuracy_array = np.zeros(100000)\n",
    "    accuracy_array[0]=accuracy_algorithms(h_label0,h_label1)\n",
    "    \n",
    "    while abs(total_new-total)>0.000001:\n",
    "        total=total_new\n",
    "        u = u - learning_rate* partial_differential_of_total_cross_entropy(label0,label1,h_label0,h_label1,xy0[0],xy1[0])\n",
    "        v = v - learning_rate* partial_differential_of_total_cross_entropy(label0,label1,h_label0,h_label1,xy0[1],xy1[1])\n",
    "        b = b - learning_rate* partial_differential_of_total_cross_entropy(label0,label1,h_label0,h_label1,xy0[2],xy1[2])\n",
    "        h_label0=h_func(xy0_train,u,v,b)\n",
    "        h_label1=h_func(xy1_train,v,v,b)\n",
    "#        print(h_label1)\n",
    "        total_new=cross_entropy_total(h_label0,h_label1,label0,label1)\n",
    "        total_loss[i]=total_new\n",
    "        iteration+=1\n",
    "        i+=1\n",
    "        accuracy_array[i+1]=accuracy_algorithms(h_label0,h_label1)\n",
    "        \n",
    "    \n",
    "    return total_loss,iteration,accuracy_array"
   ]
  },
  {
   "cell_type": "markdown",
   "metadata": {},
   "source": [
    "- Training loss and accuracy."
   ]
  },
  {
   "cell_type": "code",
   "execution_count": 655,
   "metadata": {},
   "outputs": [],
   "source": [
    "h_label0_training=h_func(xy0_train,10,10,10)\n",
    "h_label1_training=h_func(xy1_train,10,10,10)\n",
    "training_total_loss,training_iteration,accuracy_array_train= gradient_descent_algorithms(label0,label1,h_label0_training,\n",
    "                                                                    h_label1_training,xy0_train_plus1.T,xy1_train_plus1.T)\n",
    "\n"
   ]
  },
  {
   "cell_type": "markdown",
   "metadata": {},
   "source": [
    "- Testing loss and accuracy."
   ]
  },
  {
   "cell_type": "code",
   "execution_count": 656,
   "metadata": {},
   "outputs": [],
   "source": [
    "h_label0_testing=h_func(xy0_test,10,10,10)\n",
    "h_label1_testing=h_func(xy1_test,10,10,10)\n",
    "testing_total_loss,testing_iteration,accuracy_array_test= gradient_descent_algorithms(label0,label1,h_label0_testing,\n",
    "                                                                  h_label1_testing,xy0_test_plus1.T,xy1_test_plus1.T)\n"
   ]
  },
  {
   "cell_type": "markdown",
   "metadata": {},
   "source": [
    "- Visualize each loss!"
   ]
  },
  {
   "cell_type": "code",
   "execution_count": 657,
   "metadata": {},
   "outputs": [
    {
     "data": {
      "text/plain": [
       "Text(0.5, 0, 'Iteraion')"
      ]
     },
     "execution_count": 657,
     "metadata": {},
     "output_type": "execute_result"
    },
    {
     "data": {
      "image/png": "[encoded data removed]",
      "text/plain": [
       "<Figure size 432x288 with 1 Axes>"
      ]
     },
     "metadata": {
      "needs_background": "light"
     },
     "output_type": "display_data"
    }
   ],
   "source": [
    "plt.plot(training_total_loss[:430],label='Training Loss')\n",
    "plt.plot(testing_total_loss[:500],label='Testing Loss')\n",
    "plt.legend(loc='upper right')\n",
    "plt.title(\"Total Loss at Ever Iteration\")\n",
    "plt.xlabel(\"Iteraion\")"
   ]
  },
  {
   "cell_type": "markdown",
   "metadata": {},
   "source": [
    "- Visualize each Accuracy!"
   ]
  },
  {
   "cell_type": "code",
   "execution_count": 658,
   "metadata": {},
   "outputs": [
    {
     "data": {
      "text/plain": [
       "Text(0.5, 0, 'Iteraion')"
      ]
     },
     "execution_count": 658,
     "metadata": {},
     "output_type": "execute_result"
    },
    {
     "data": {
      "image/png": "[encoded data removed]",
      "text/plain": [
       "<Figure size 432x288 with 1 Axes>"
      ]
     },
     "metadata": {
      "needs_background": "light"
     },
     "output_type": "display_data"
    }
   ],
   "source": [
    "plt.plot(accuracy_array_train[100:1115],label='Training Accuracy')\n",
    "plt.plot(accuracy_array_test[100:1492],label='Testing Accuracy')\n",
    "plt.legend(loc='upper right')\n",
    "plt.title(\"Total Accuracy\")\n",
    "plt.xlabel(\"Iteraion\")"
   ]
  },
  {
   "cell_type": "code",
   "execution_count": null,
   "metadata": {},
   "outputs": [],
   "source": []
  }
 ],
 "metadata": {
  "kernelspec": {
   "display_name": "Python 3",
   "language": "python",
   "name": "python3"
  },
  "language_info": {
   "codemirror_mode": {
    "name": "ipython",
    "version": 3
   },
   "file_extension": ".py",
   "mimetype": "text/x-python",
   "name": "python",
   "nbconvert_exporter": "python",
   "pygments_lexer": "ipython3",
   "version": "3.7.4"
  }
 },
 "nbformat": 4,
 "nbformat_minor": 2
}
