{
 "cells": [
  {
   "cell_type": "markdown",
   "metadata": {},
   "source": [
    "# Binary classification based on 3 layers neural network"
   ]
  },
  {
   "cell_type": "markdown",
   "metadata": {},
   "source": [
    "- This is given by Professor"
   ]
  },
  {
   "cell_type": "code",
   "execution_count": 116,
   "metadata": {},
   "outputs": [],
   "source": [
    "import torch\n",
    "from torch.utils.data import Dataset, DataLoader\n",
    "import torchvision.transforms as transforms\n",
    "from torch.autograd import Variable\n",
    "import torchvision\n",
    "import os\n",
    "import sys\n",
    "\n",
    "from scipy.special import xlogy\n",
    "\n",
    "import matplotlib.pyplot as plt\n",
    "import numpy as np\n",
    "import time\n",
    "\n",
    "\n",
    "transform = transforms.Compose([#transforms.Resize((256,256)),  \n",
    "                                transforms.Grayscale(),\t\t# the code transforms.Graysclae() is for changing the size [3,100,100] to [1, 100, 100] (notice : [channel, height, width] )\n",
    "                                transforms.ToTensor(),])\n",
    "\n",
    " \n",
    "#train_data_path = 'relative path of training data set'\n",
    "train_data_path = 'C:\\\\중앙대 수업자료\\\\MachineLearningProject\\\\horse-or-human\\\\horse-or-human\\\\train'\n",
    "trainset = torchvision.datasets.ImageFolder(root=train_data_path, transform=transform)\n",
    "# change the valuse of batch_size, num_workers for your program\n",
    "# if shuffle=True, the data reshuffled at every epoch \n",
    "trainloader = torch.utils.data.DataLoader(trainset, batch_size=1, shuffle=False, num_workers=1)  \n",
    "\n",
    "\n",
    "validation_data_path = 'C:\\\\중앙대 수업자료\\\\MachineLearningProject\\\\horse-or-human\\\\horse-or-human\\\\validation'\n",
    "valset = torchvision.datasets.ImageFolder(root=validation_data_path, transform=transform)\n",
    "# change the valuse of batch_size, num_workers for your program\n",
    "valloader = torch.utils.data.DataLoader(valset, batch_size=1, shuffle=False, num_workers=1)  \n"
   ]
  },
  {
   "cell_type": "markdown",
   "metadata": {},
   "source": [
    "- This is given by Professor"
   ]
  },
  {
   "cell_type": "code",
   "execution_count": 118,
   "metadata": {},
   "outputs": [],
   "source": [
    "train_labels=np.zeros(1027)\n",
    "test_labels=np.zeros(256)\n",
    "\n",
    "train_datas=np.zeros((1027,10000))\n",
    "test_datas=np.zeros((256,10000))\n",
    "\n",
    "\n",
    "\n",
    "for epoch in range(1):\n",
    "    sum=0\n",
    "    # load training images of the batch size for every iteration\n",
    "    for i, data in enumerate(trainloader):\n",
    "\n",
    "        inputs, labels = data\n",
    "        train_labels[i]=int(labels)\n",
    "        reinputs=inputs.reshape(10000)\n",
    "        reinputs=np.array(reinputs)\n",
    "        train_datas[i]=reinputs\n",
    "        \n",
    "    train_datas=train_datas.T\n",
    "\n",
    "    for i, data in enumerate(valloader):\n",
    "        sum+=1\n",
    "        inputs, labels = data\n",
    "        test_labels[i]=int(labels)\n",
    "        reinputs=inputs.reshape(10000)\n",
    "        reinputs=np.array(reinputs)\n",
    "        test_datas[i]=reinputs\n",
    "\n",
    "    test_datas=test_datas.T\n",
    "\n",
    "        \n",
    "    \n",
    "    "
   ]
  },
  {
   "cell_type": "markdown",
   "metadata": {},
   "source": [
    "- for calculating Accuracy of labels"
   ]
  },
  {
   "cell_type": "code",
   "execution_count": 119,
   "metadata": {},
   "outputs": [],
   "source": [
    "def accuracy_func(h_,label):\n",
    "    label_result=np.zeros(len(h_))\n",
    "    correct=0\n",
    "    for i in range(len(label)):\n",
    "        if(h_[i]<0.5):\n",
    "            label_result[i]=0\n",
    "        elif(h_[i]>=0.5):\n",
    "            label_result[i]=1\n",
    "            \n",
    "        if(label_result[i]==label[i]):\n",
    "            correct+=1\n",
    "    total= correct/len(label)\n",
    "    \n",
    "    return total\n",
    "\n",
    "np.set_printoptions(threshold=sys.maxsize)"
   ]
  },
  {
   "cell_type": "markdown",
   "metadata": {},
   "source": [
    "- set Array and epoch number of train and validation."
   ]
  },
  {
   "cell_type": "code",
   "execution_count": 251,
   "metadata": {},
   "outputs": [],
   "source": [
    "NUM_EPOCH=10000\n",
    "\n",
    "total_loss=np.zeros(NUM_EPOCH)\n",
    "total_loss_test=np.zeros(NUM_EPOCH)\n",
    "\n",
    "accuracy=np.zeros(NUM_EPOCH)\n",
    "accuracy_test=np.zeros(NUM_EPOCH)\n",
    "\n",
    "known_data1=np.random.randn(10000,10)\n",
    "known_data2=np.random.randn(10,3)\n",
    "known_data3=np.random.randn(3,1)\n",
    "\n",
    "b_1=np.random.randn(10,1)\n",
    "b_2=np.random.randn(3,1)\n",
    "b_3=np.random.randn(1,1)\n"
   ]
  },
  {
   "cell_type": "markdown",
   "metadata": {},
   "source": [
    "- Optimization in 3 Layers\n",
    "- Vertorizing Logistic Regression'c gradient Computation in 3 Layers\n",
    "- Vectorizing Across Multiple\n",
    "- Neural Network Representations\n",
    "- known_data1 => 10000 x 10 , known_data2 => 10 x 3 ,known_data3 => 3 x 1"
   ]
  },
  {
   "cell_type": "code",
   "execution_count": 252,
   "metadata": {},
   "outputs": [],
   "source": [
    "\n",
    "l_rate=0.085\n",
    "\n",
    "delta = 1e-70\n",
    "for i in range(NUM_EPOCH):\n",
    "    #Vectorizing Logistic Regression for train_set\n",
    "    z1=known_data1.T@train_datas+b_1 #10x1027 =a\n",
    "    A1=1.0/(1+np.exp(-z1)) \n",
    "    z2=known_data2.T@A1 +b_2 #3x1027=b\n",
    "    A2=1.0/(1+np.exp(-z2))\n",
    "    z3=known_data3.T@A2+b_3 #1x1027=c\n",
    "    A3=1.0/(1+np.exp(-z3))\n",
    "    \n",
    "    \n",
    "    #Vectorizing Logistic Regression for validation_set\n",
    "    z1_v=known_data1.T@test_datas+b_1 #10x256=a\n",
    "    A1_v=1.0/(1+np.exp(-z1_v)) \n",
    "    z2_v=known_data2.T@A1_v+b_2 #3x256=b\n",
    "    A2_v=1.0/(1+np.exp(-z2_v))\n",
    "    z3_v=known_data3.T@A2_v+b_3 #1x256=c\n",
    "    A3_v=1.0/(1+np.exp(-z3_v))\n",
    "        \n",
    "    j=-(xlogy(train_labels,A3)+xlogy(1-train_labels,1-A3)).sum()/1027\n",
    "    j_v=-(xlogy(test_labels,A3_v)+xlogy(1-test_labels,1-A3_v)).sum()/256\n",
    "    \n",
    "    L_3=A3-train_labels #1027\n",
    "    dL_3=(A2@L_3.T)/1027\n",
    "    known_data3-=l_rate*dL_3\n",
    "    b3=np.sum(L_3,axis=1,keepdims=True)/1027\n",
    "    \n",
    "    L_3=L_3.reshape(1027,1)\n",
    "    L_2=known_data3@L_3.T*((1-A2)*A2) #3x1027\n",
    "    dL_2=(A1@L_2.T)/1027\n",
    "    known_data2-=l_rate*dL_2\n",
    "    b2=np.sum(L_2,axis=1,keepdims=True)/1027\n",
    "    \n",
    "    \n",
    "    L_1=known_data2@L_2*((1-A1)*A1) #10x1027\n",
    "    dL_1=(train_datas@L_1.T)/1027\n",
    "    known_data1-=l_rate*dL_1\n",
    "    b1=np.sum(L_1,axis=1,keepdims=True)/1027\n",
    "\n",
    "    \n",
    "    \n",
    "    total_loss[i]=j  \n",
    "    A3=A3.reshape(1027)\n",
    "    accuracy[i]=accuracy_func(A3,train_labels)\n",
    "    \n",
    "    A3_v=A3_v.reshape(256)\n",
    "    total_loss_test[i]=j_v\n",
    "    accuracy_test[i]=accuracy_func(A3_v,test_labels)\n",
    "    "
   ]
  },
  {
   "cell_type": "markdown",
   "metadata": {},
   "source": [
    "- Plot the loss of Train and Validation at every iteration"
   ]
  },
  {
   "cell_type": "code",
   "execution_count": 253,
   "metadata": {},
   "outputs": [
    {
     "data": {
      "text/plain": [
       "Text(0.5, 0, 'Iteraion')"
      ]
     },
     "execution_count": 253,
     "metadata": {},
     "output_type": "execute_result"
    },
    {
     "data": {
      "image/png": "[encoded data removed]",
      "text/plain": [
       "<Figure size 432x288 with 1 Axes>"
      ]
     },
     "metadata": {
      "needs_background": "light"
     },
     "output_type": "display_data"
    }
   ],
   "source": [
    "plt.plot(total_loss,label='Training Loss')\n",
    "plt.plot(total_loss_test,label='Validation Loss')\n",
    "plt.legend(loc='upper right')\n",
    "plt.title(\"Total Loss at Every Iteration\")\n",
    "plt.xlabel(\"Iteraion\")"
   ]
  },
  {
   "cell_type": "markdown",
   "metadata": {},
   "source": [
    "- Plot the Accuracy of Train and Validation "
   ]
  },
  {
   "cell_type": "code",
   "execution_count": 260,
   "metadata": {},
   "outputs": [
    {
     "data": {
      "text/plain": [
       "Text(0.5, 0, 'Iteraion')"
      ]
     },
     "execution_count": 260,
     "metadata": {},
     "output_type": "execute_result"
    },
    {
     "data": {
      "image/png": "[encoded data removed]",
      "text/plain": [
       "<Figure size 432x288 with 1 Axes>"
      ]
     },
     "metadata": {
      "needs_background": "light"
     },
     "output_type": "display_data"
    }
   ],
   "source": [
    "plt.plot(accuracy,label='Training Accuracy')\n",
    "plt.plot(accuracy_test,label='Validation Accuracy')\n",
    "plt.legend(loc='lower right')\n",
    "plt.title(\"Total Accuracy\")\n",
    "plt.xlabel(\"Iteraion\")"
   ]
  },
  {
   "cell_type": "markdown",
   "metadata": {},
   "source": [
    "- Present the table for the final accuracy and loss with training and validation datasets\n",
    "- Accuracy multiply 100 to present as a persent(%)"
   ]
  },
  {
   "cell_type": "code",
   "execution_count": 255,
   "metadata": {},
   "outputs": [
    {
     "name": "stdout",
     "output_type": "stream",
     "text": [
      "\n",
      "+-----------------------+-----------------------+--------------------+\n",
      "|       Data set        |          Loss         |      Accuracy      |\n",
      "+-----------------------+-----------------------+--------------------+\n",
      "|       Training        |           0.277        |       90.17 %     |\n",
      "+-----------------------+-----------------------+--------------------+\n",
      "|      Validation       |           0.372        |       85.94 %     |\n",
      "+-----------------------+-----------------------+--------------------+\n"
     ]
    }
   ],
   "source": [
    "print(\"\"\"\n",
    "+-----------------------+-----------------------+--------------------+\n",
    "|       Data set        |          Loss         |      Accuracy      |\n",
    "+-----------------------+-----------------------+--------------------+\n",
    "|       Training        |          %6.3f        |      %6.2f %%     |\n",
    "+-----------------------+-----------------------+--------------------+\n",
    "|      Validation       |          %6.3f        |      %6.2f %%     |\n",
    "+-----------------------+-----------------------+--------------------+\"\"\"\n",
    "%(total_loss[NUM_EPOCH-1],accuracy[NUM_EPOCH-1]*100,total_loss_test[NUM_EPOCH-1],accuracy_test[NUM_EPOCH-1]*100))"
   ]
  },
  {
   "cell_type": "markdown",
   "metadata": {},
   "source": [
    "\n",
    "           ^                  ^           \n",
    "           ´                  `          \n",
    "         @             ∀        @        \n",
    "                                          \n",
    "         Creat by YoungMin Kim :)         \n",
    "    <     Student ID: 20166450        >  \n",
    "       Contact: kimym7418@gmail.com       \n",
    "                                          \n"
   ]
  }
 ],
 "metadata": {
  "kernelspec": {
   "display_name": "PyTorch",
   "language": "python",
   "name": "pytorch"
  },
  "language_info": {
   "codemirror_mode": {
    "name": "ipython",
    "version": 3
   },
   "file_extension": ".py",
   "mimetype": "text/x-python",
   "name": "python",
   "nbconvert_exporter": "python",
   "pygments_lexer": "ipython3",
   "version": "3.7.4"
  }
 },
 "nbformat": 4,
 "nbformat_minor": 2
}
