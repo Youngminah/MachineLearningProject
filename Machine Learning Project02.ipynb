{
 "cells": [
  {
   "cell_type": "markdown",
   "metadata": {},
   "source": [
    "# Build a binary classifier for human versus horse\n",
    "\n",
    "20166450 김영민"
   ]
  },
  {
   "cell_type": "markdown",
   "metadata": {},
   "source": [
    "- This is given by Professor"
   ]
  },
  {
   "cell_type": "code",
   "execution_count": 1,
   "metadata": {},
   "outputs": [],
   "source": [
    "import torch\n",
    "from torch.utils.data import Dataset, DataLoader\n",
    "import torchvision.transforms as transforms\n",
    "from torch.autograd import Variable\n",
    "import torchvision\n",
    "import os\n",
    "import sys\n",
    "\n",
    "from scipy.special import xlogy\n",
    "\n",
    "import matplotlib.pyplot as plt\n",
    "import numpy as np\n",
    "import time\n",
    "\n",
    "\n",
    "transform = transforms.Compose([#transforms.Resize((256,256)),  \n",
    "                                transforms.Grayscale(),\t\t# the code transforms.Graysclae() is for changing the size [3,100,100] to [1, 100, 100] (notice : [channel, height, width] )\n",
    "                                transforms.ToTensor(),])\n",
    "\n",
    " \n",
    "#train_data_path = 'relative path of training data set'\n",
    "train_data_path = 'C:\\\\중앙대 수업자료\\\\MachineLearningProject\\\\horse-or-human\\\\horse-or-human\\\\train'\n",
    "trainset = torchvision.datasets.ImageFolder(root=train_data_path, transform=transform)\n",
    "# change the valuse of batch_size, num_workers for your program\n",
    "# if shuffle=True, the data reshuffled at every epoch \n",
    "trainloader = torch.utils.data.DataLoader(trainset, batch_size=1, shuffle=False, num_workers=1)  \n",
    "\n",
    "\n",
    "validation_data_path = 'C:\\\\중앙대 수업자료\\\\MachineLearningProject\\\\horse-or-human\\\\horse-or-human\\\\validation'\n",
    "valset = torchvision.datasets.ImageFolder(root=validation_data_path, transform=transform)\n",
    "# change the valuse of batch_size, num_workers for your program\n",
    "valloader = torch.utils.data.DataLoader(valset, batch_size=1, shuffle=False, num_workers=1)  \n",
    "\n"
   ]
  },
  {
   "cell_type": "code",
   "execution_count": null,
   "metadata": {},
   "outputs": [],
   "source": [
    "asdf"
   ]
  },
  {
   "cell_type": "markdown",
   "metadata": {},
   "source": [
    "- This is given by Professor"
   ]
  },
  {
   "cell_type": "code",
   "execution_count": 2,
   "metadata": {
    "scrolled": true
   },
   "outputs": [],
   "source": [
    "train_labels=np.zeros(1027)\n",
    "test_labels=np.zeros(256)\n",
    "\n",
    "train_datas=np.zeros((1027,10001))\n",
    "test_datas=np.zeros((256,10001))\n",
    "\n",
    "\n",
    "\n",
    "for epoch in range(1):\n",
    "    sum=0\n",
    "    # load training images of the batch size for every iteration\n",
    "    for i, data in enumerate(trainloader):\n",
    "\n",
    "        inputs, labels = data\n",
    "        train_labels[i]=int(labels)\n",
    "        reinputs=inputs.reshape(10000)\n",
    "        reinputs=np.array(reinputs)\n",
    "        reinputs=np.hstack((reinputs,1))\n",
    "        train_datas[i]=reinputs\n",
    "        \n",
    "    train_datas=train_datas.T\n",
    "\n",
    "    for i, data in enumerate(valloader):\n",
    "        sum+=1\n",
    "        inputs, labels = data\n",
    "        test_labels[i]=int(labels)\n",
    "        reinputs=inputs.reshape(10000)\n",
    "        reinputs=np.array(reinputs)\n",
    "        reinputs=np.hstack((reinputs,1))\n",
    "        test_datas[i]=reinputs\n",
    "\n",
    "    test_datas=test_datas.T\n",
    "\n",
    "        \n",
    "    \n",
    "    \n"
   ]
  },
  {
   "cell_type": "markdown",
   "metadata": {},
   "source": [
    "- for calculating Accuracy of labels"
   ]
  },
  {
   "cell_type": "code",
   "execution_count": 3,
   "metadata": {},
   "outputs": [],
   "source": [
    "def accuracy_func(h_,label):\n",
    "    label_result=np.zeros(len(h_))\n",
    "    correct=0\n",
    "    \n",
    "    for i in range(len(label)):\n",
    "        if(h_[i]<0.5):\n",
    "            label_result[i]=0\n",
    "        elif(h_[i]>=0.5):\n",
    "            label_result[i]=1\n",
    "            \n",
    "        if(label_result[i]==label[i]):\n",
    "            correct+=1\n",
    "    total= correct/len(label)\n",
    "    \n",
    "    return total\n",
    "\n",
    "np.set_printoptions(threshold=sys.maxsize)"
   ]
  },
  {
   "cell_type": "markdown",
   "metadata": {},
   "source": [
    "- set Array and epoch number."
   ]
  },
  {
   "cell_type": "code",
   "execution_count": 33,
   "metadata": {},
   "outputs": [],
   "source": [
    "NUM_EPOCH=2000\n",
    "\n",
    "total_loss=np.zeros(NUM_EPOCH)\n",
    "total_loss_test=np.zeros(NUM_EPOCH)\n",
    "\n",
    "accuracy=np.zeros(NUM_EPOCH)\n",
    "accuracy_test=np.zeros(NUM_EPOCH)\n",
    "\n",
    "time_vector=np.zeros(NUM_EPOCH)\n",
    "time_vector_v=np.zeros(NUM_EPOCH)\n",
    "\n",
    "known_train=np.zeros((10001))\n",
    "known_test=np.zeros((10001))"
   ]
  },
  {
   "cell_type": "markdown",
   "metadata": {},
   "source": [
    "- Optimization\n",
    "- Vertorizing Logistic Regression'c gradient Computation"
   ]
  },
  {
   "cell_type": "code",
   "execution_count": 34,
   "metadata": {},
   "outputs": [],
   "source": [
    "l_rate=0.005\n",
    "\n",
    "delta = 1e-70\n",
    "for i in range(NUM_EPOCH):\n",
    "    #Vectorizing Logistic Regression for train_set\n",
    "    L=0\n",
    "    h=0\n",
    "    j=0\n",
    "    tic=time.time()\n",
    "    z=known_train@train_datas\n",
    "    h=1.0/(1+np.exp(-z))\n",
    "    j=-(xlogy(train_labels,h+delta)+xlogy(1-train_labels,1-h+delta)).sum()/1027\n",
    "    L=h-train_labels\n",
    "    dw=train_datas@L\n",
    "    dw=dw/1027\n",
    "    known_train-=l_rate*dw\n",
    "    toc=time.time()\n",
    "    time_vector[i]=1000*(toc-tic)\n",
    "    total_loss[i]=j  \n",
    "    accuracy[i]=accuracy_func(h,train_labels)\n",
    "    \n",
    "    #Vectorizing Logistic Regression for test_set\n",
    "    L_v=0\n",
    "    h_v=0\n",
    "    j_v=0\n",
    "    tic_v=time.time()\n",
    "    z_v=known_test@test_datas\n",
    "    h_v=1.0/(1.0+np.exp(-z_v))\n",
    "    j_v=-(xlogy(test_labels,h_v+delta)+xlogy(1-test_labels,1-h_v+delta)).sum()/256\n",
    "    L_v=h_v-test_labels\n",
    "    dw_v=test_datas@L_v\n",
    "    dw_v=dw_v/256\n",
    "    known_test-=l_rate*dw_v\n",
    "    toc_v=time.time()\n",
    "    time_vector_v[i]=1000*(toc_v-tic_v)\n",
    "    total_loss_test[i]=j_v\n",
    "    accuracy_test[i]=accuracy_func(h_v,test_labels)"
   ]
  },
  {
   "cell_type": "markdown",
   "metadata": {},
   "source": [
    "- Plot the loss of Train and Validation at every iteration\n",
    "- I divdied Loss to number of datasets in order to compare "
   ]
  },
  {
   "cell_type": "code",
   "execution_count": 35,
   "metadata": {},
   "outputs": [
    {
     "data": {
      "text/plain": [
       "Text(0.5, 0, 'Iteraion')"
      ]
     },
     "execution_count": 35,
     "metadata": {},
     "output_type": "execute_result"
    },
    {
     "data": {
      "image/png": "[encoded data removed]",
      "text/plain": [
       "<Figure size 432x288 with 1 Axes>"
      ]
     },
     "metadata": {
      "needs_background": "light"
     },
     "output_type": "display_data"
    }
   ],
   "source": [
    "plt.plot(total_loss,label='Training Loss')\n",
    "plt.plot(total_loss_test,label='Validation Loss')\n",
    "plt.legend(loc='upper right')\n",
    "plt.title(\"Total Loss at Every Iteration\")\n",
    "plt.xlabel(\"Iteraion\")"
   ]
  },
  {
   "cell_type": "markdown",
   "metadata": {},
   "source": [
    "- Plot the Accuracy of Train and Validation "
   ]
  },
  {
   "cell_type": "code",
   "execution_count": 36,
   "metadata": {},
   "outputs": [
    {
     "data": {
      "text/plain": [
       "Text(0.5, 0, 'Iteraion')"
      ]
     },
     "execution_count": 36,
     "metadata": {},
     "output_type": "execute_result"
    },
    {
     "data": {
      "image/png": "[encoded data removed]",
      "text/plain": [
       "<Figure size 432x288 with 1 Axes>"
      ]
     },
     "metadata": {
      "needs_background": "light"
     },
     "output_type": "display_data"
    }
   ],
   "source": [
    "plt.plot(accuracy,label='Training Accuracy')\n",
    "plt.plot(accuracy_test,label='Validation Accuracy')\n",
    "plt.legend(loc='upper right')\n",
    "plt.title(\"Total Accuracy\")\n",
    "plt.xlabel(\"Iteraion\")"
   ]
  },
  {
   "cell_type": "markdown",
   "metadata": {},
   "source": [
    "- Present the table for the final accuracy and loss with training and validation datasets\n",
    "- Accuracy multiply 100 to present as a persent(%)"
   ]
  },
  {
   "cell_type": "code",
   "execution_count": 38,
   "metadata": {},
   "outputs": [
    {
     "name": "stdout",
     "output_type": "stream",
     "text": [
      "\n",
      "+-----------------------+-----------------------+--------------------+\n",
      "|       Data set        |          Loss         |      Accuracy      |\n",
      "+-----------------------+-----------------------+--------------------+\n",
      "|       Training        |           0.206        |       94.45 %     |\n",
      "+-----------------------+-----------------------+--------------------+\n",
      "|      Validation       |           0.013        |      100.00 %     |\n",
      "+-----------------------+-----------------------+--------------------+\n"
     ]
    }
   ],
   "source": [
    "print(\"\"\"\n",
    "+-----------------------+-----------------------+--------------------+\n",
    "|       Data set        |          Loss         |      Accuracy      |\n",
    "+-----------------------+-----------------------+--------------------+\n",
    "|       Training        |          %6.3f        |      %6.2f %%     |\n",
    "+-----------------------+-----------------------+--------------------+\n",
    "|      Validation       |          %6.3f        |      %6.2f %%     |\n",
    "+-----------------------+-----------------------+--------------------+\"\"\"\n",
    "%(total_loss[1999],accuracy[1999]*100,total_loss_test[1999],accuracy_test[1999]*100))"
   ]
  },
  {
   "cell_type": "markdown",
   "metadata": {},
   "source": [
    "- Plot the elapsed time at every iteration for the computation of the gradient and the update of model parameters (x-axis: iteration, y-axis: elapsed time)"
   ]
  },
  {
   "cell_type": "code",
   "execution_count": 44,
   "metadata": {},
   "outputs": [
    {
     "data": {
      "text/plain": [
       "Text(0.5, 0, 'Iteraion')"
      ]
     },
     "execution_count": 44,
     "metadata": {},
     "output_type": "execute_result"
    },
    {
     "data": {
      "image/png": "[encoded data removed]",
      "text/plain": [
       "<Figure size 432x288 with 1 Axes>"
      ]
     },
     "metadata": {
      "needs_background": "light"
     },
     "output_type": "display_data"
    }
   ],
   "source": [
    "plt.plot(time_vector[:1630],label='Training each time')\n",
    "plt.plot(time_vector_v[:1630],label='Validation each time')\n",
    "plt.legend(loc='upper right')\n",
    "plt.title(\"Total time at Every Iteration\")\n",
    "plt.xlabel(\"Iteraion\")"
   ]
  },
  {
   "cell_type": "code",
   "execution_count": null,
   "metadata": {},
   "outputs": [],
   "source": []
  }
 ],
 "metadata": {
  "kernelspec": {
   "display_name": "Python 3",
   "language": "python",
   "name": "python3"
  },
  "language_info": {
   "codemirror_mode": {
    "name": "ipython",
    "version": 3
   },
   "file_extension": ".py",
   "mimetype": "text/x-python",
   "name": "python",
   "nbconvert_exporter": "python",
   "pygments_lexer": "ipython3",
   "version": "3.7.5"
  }
 },
 "nbformat": 4,
 "nbformat_minor": 2
}
